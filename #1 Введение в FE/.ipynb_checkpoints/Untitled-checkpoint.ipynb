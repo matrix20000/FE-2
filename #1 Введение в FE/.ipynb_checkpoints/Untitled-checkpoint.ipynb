{
 "cells": [
  {
   "cell_type": "code",
   "execution_count": 1,
   "metadata": {},
   "outputs": [],
   "source": [
    "import numpy as np\n",
    "import pandas as pd\n",
    "import seaborn as sns\n",
    "\n",
    "from sklearn.linear_model import LinearRegression"
   ]
  },
  {
   "cell_type": "markdown",
   "metadata": {},
   "source": [
    "Рассчитаем стоимость доставки из одного региона в зависимости от размера, веса, и региона доставики"
   ]
  },
  {
   "cell_type": "code",
   "execution_count": 26,
   "metadata": {},
   "outputs": [
    {
     "data": {
      "text/html": [
       "<div>\n",
       "<style scoped>\n",
       "    .dataframe tbody tr th:only-of-type {\n",
       "        vertical-align: middle;\n",
       "    }\n",
       "\n",
       "    .dataframe tbody tr th {\n",
       "        vertical-align: top;\n",
       "    }\n",
       "\n",
       "    .dataframe thead th {\n",
       "        text-align: right;\n",
       "    }\n",
       "</style>\n",
       "<table border=\"1\" class=\"dataframe\">\n",
       "  <thead>\n",
       "    <tr style=\"text-align: right;\">\n",
       "      <th></th>\n",
       "      <th>subjects_of_RF</th>\n",
       "      <th>length</th>\n",
       "      <th>width</th>\n",
       "      <th>height</th>\n",
       "      <th>weight</th>\n",
       "      <th>price</th>\n",
       "    </tr>\n",
       "  </thead>\n",
       "  <tbody>\n",
       "    <tr>\n",
       "      <td>0</td>\n",
       "      <td>51</td>\n",
       "      <td>191</td>\n",
       "      <td>61</td>\n",
       "      <td>135</td>\n",
       "      <td>35.5</td>\n",
       "      <td>2847.708292</td>\n",
       "    </tr>\n",
       "    <tr>\n",
       "      <td>1</td>\n",
       "      <td>82</td>\n",
       "      <td>198</td>\n",
       "      <td>58</td>\n",
       "      <td>100</td>\n",
       "      <td>7.5</td>\n",
       "      <td>706.266000</td>\n",
       "    </tr>\n",
       "    <tr>\n",
       "      <td>2</td>\n",
       "      <td>22</td>\n",
       "      <td>72</td>\n",
       "      <td>177</td>\n",
       "      <td>98</td>\n",
       "      <td>35.5</td>\n",
       "      <td>975.400272</td>\n",
       "    </tr>\n",
       "    <tr>\n",
       "      <td>3</td>\n",
       "      <td>69</td>\n",
       "      <td>109</td>\n",
       "      <td>142</td>\n",
       "      <td>73</td>\n",
       "      <td>37.5</td>\n",
       "      <td>2923.600725</td>\n",
       "    </tr>\n",
       "    <tr>\n",
       "      <td>4</td>\n",
       "      <td>31</td>\n",
       "      <td>175</td>\n",
       "      <td>50</td>\n",
       "      <td>66</td>\n",
       "      <td>36.5</td>\n",
       "      <td>653.441250</td>\n",
       "    </tr>\n",
       "  </tbody>\n",
       "</table>\n",
       "</div>"
      ],
      "text/plain": [
       "   subjects_of_RF  length  width  height  weight        price\n",
       "0              51     191     61     135    35.5  2847.708292\n",
       "1              82     198     58     100     7.5   706.266000\n",
       "2              22      72    177      98    35.5   975.400272\n",
       "3              69     109    142      73    37.5  2923.600725\n",
       "4              31     175     50      66    36.5   653.441250"
      ]
     },
     "execution_count": 26,
     "metadata": {},
     "output_type": "execute_result"
    }
   ],
   "source": [
    "\n",
    "n_samples = 2000\n",
    "\n",
    "subjects_of_RF = np.random.choice(85, n_samples) + 1 #меньше - ближе расстояние\n",
    "length = np.random.choice(220, n_samples) + 10\n",
    "width = np.random.choice(180, n_samples) + 10\n",
    "height = np.random.choice(150, n_samples) + 10\n",
    "weight = np.random.choice(50, n_samples) + 0.5\n",
    "\n",
    "price = subjects_of_RF * (length / 100) * (width / 100) * (height / 100) * weight\n",
    "\n",
    "data = pd.DataFrame({'subjects_of_RF': subjects_of_RF, 'length': length, 'width': width, 'height': height, \n",
    "                     'weight': weight,'price': price,})\n",
    "data.head(5)"
   ]
  },
  {
   "cell_type": "code",
   "execution_count": 27,
   "metadata": {},
   "outputs": [
    {
     "name": "stdout",
     "output_type": "stream",
     "text": [
      "Weights: [26.58295909  9.52071772 11.83313721 12.77082414 42.73756137]\n",
      "Bias: -4501.352677985587\n",
      "Error: 781.5511115185244\n"
     ]
    }
   ],
   "source": [
    "from sklearn.metrics import mean_absolute_error #средние абсолютные ошибки\n",
    "\n",
    "X = data[['subjects_of_RF', 'length', 'width', 'height', 'weight']]\n",
    "y = data['price']\n",
    "reg = LinearRegression().fit(X, y)\n",
    "print('Weights: {}'.format(reg.coef_))\n",
    "print('Bias: {}'.format(reg.intercept_))\n",
    "\n",
    "pred_values = reg.predict(data[['subjects_of_RF', 'length', 'width', 'height', 'weight']])\n",
    "print('Error: {}'.format(mean_absolute_error(pred_values, y)))"
   ]
  },
  {
   "cell_type": "code",
   "execution_count": 28,
   "metadata": {},
   "outputs": [
    {
     "data": {
      "text/html": [
       "<div>\n",
       "<style scoped>\n",
       "    .dataframe tbody tr th:only-of-type {\n",
       "        vertical-align: middle;\n",
       "    }\n",
       "\n",
       "    .dataframe tbody tr th {\n",
       "        vertical-align: top;\n",
       "    }\n",
       "\n",
       "    .dataframe thead th {\n",
       "        text-align: right;\n",
       "    }\n",
       "</style>\n",
       "<table border=\"1\" class=\"dataframe\">\n",
       "  <thead>\n",
       "    <tr style=\"text-align: right;\">\n",
       "      <th></th>\n",
       "      <th>subjects_of_RF</th>\n",
       "      <th>length</th>\n",
       "      <th>width</th>\n",
       "      <th>height</th>\n",
       "      <th>weight</th>\n",
       "      <th>price</th>\n",
       "      <th>sum_size</th>\n",
       "    </tr>\n",
       "  </thead>\n",
       "  <tbody>\n",
       "    <tr>\n",
       "      <td>0</td>\n",
       "      <td>51</td>\n",
       "      <td>191</td>\n",
       "      <td>61</td>\n",
       "      <td>135</td>\n",
       "      <td>35.5</td>\n",
       "      <td>2847.708292</td>\n",
       "      <td>558374.175</td>\n",
       "    </tr>\n",
       "    <tr>\n",
       "      <td>1</td>\n",
       "      <td>82</td>\n",
       "      <td>198</td>\n",
       "      <td>58</td>\n",
       "      <td>100</td>\n",
       "      <td>7.5</td>\n",
       "      <td>706.266000</td>\n",
       "      <td>86130.000</td>\n",
       "    </tr>\n",
       "    <tr>\n",
       "      <td>2</td>\n",
       "      <td>22</td>\n",
       "      <td>72</td>\n",
       "      <td>177</td>\n",
       "      <td>98</td>\n",
       "      <td>35.5</td>\n",
       "      <td>975.400272</td>\n",
       "      <td>443363.760</td>\n",
       "    </tr>\n",
       "    <tr>\n",
       "      <td>3</td>\n",
       "      <td>69</td>\n",
       "      <td>109</td>\n",
       "      <td>142</td>\n",
       "      <td>73</td>\n",
       "      <td>37.5</td>\n",
       "      <td>2923.600725</td>\n",
       "      <td>423710.250</td>\n",
       "    </tr>\n",
       "    <tr>\n",
       "      <td>4</td>\n",
       "      <td>31</td>\n",
       "      <td>175</td>\n",
       "      <td>50</td>\n",
       "      <td>66</td>\n",
       "      <td>36.5</td>\n",
       "      <td>653.441250</td>\n",
       "      <td>210787.500</td>\n",
       "    </tr>\n",
       "  </tbody>\n",
       "</table>\n",
       "</div>"
      ],
      "text/plain": [
       "   subjects_of_RF  length  width  height  weight        price    sum_size\n",
       "0              51     191     61     135    35.5  2847.708292  558374.175\n",
       "1              82     198     58     100     7.5   706.266000   86130.000\n",
       "2              22      72    177      98    35.5   975.400272  443363.760\n",
       "3              69     109    142      73    37.5  2923.600725  423710.250\n",
       "4              31     175     50      66    36.5   653.441250  210787.500"
      ]
     },
     "execution_count": 28,
     "metadata": {},
     "output_type": "execute_result"
    }
   ],
   "source": [
    "data['sum_size'] = data['length'] * data['width'] * data['height'] / 100 * weight\n",
    "data.head(5)"
   ]
  },
  {
   "cell_type": "code",
   "execution_count": 29,
   "metadata": {},
   "outputs": [
    {
     "name": "stdout",
     "output_type": "stream",
     "text": [
      "Weights: [2.5633357e+01 4.3904720e-03]\n",
      "Bias: -1112.2129953075475\n",
      "Error: 485.9184862594397\n"
     ]
    }
   ],
   "source": [
    "from sklearn.metrics import mean_absolute_error #средние абсолютные ошибки\n",
    "\n",
    "X = data[['subjects_of_RF', 'sum_size']]\n",
    "y = data['price']\n",
    "reg = LinearRegression().fit(X, y)\n",
    "print('Weights: {}'.format(reg.coef_))\n",
    "print('Bias: {}'.format(reg.intercept_))\n",
    "\n",
    "pred_values = reg.predict(data[['subjects_of_RF', 'sum_size']])\n",
    "print('Error: {}'.format(mean_absolute_error(pred_values, y)))"
   ]
  },
  {
   "cell_type": "code",
   "execution_count": null,
   "metadata": {},
   "outputs": [],
   "source": []
  }
 ],
 "metadata": {
  "kernelspec": {
   "display_name": "Python 3",
   "language": "python",
   "name": "python3"
  },
  "language_info": {
   "codemirror_mode": {
    "name": "ipython",
    "version": 3
   },
   "file_extension": ".py",
   "mimetype": "text/x-python",
   "name": "python",
   "nbconvert_exporter": "python",
   "pygments_lexer": "ipython3",
   "version": "3.7.4"
  }
 },
 "nbformat": 4,
 "nbformat_minor": 2
}
